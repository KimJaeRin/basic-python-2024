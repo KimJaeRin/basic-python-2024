{
 "cells": [
  {
   "cell_type": "markdown",
   "metadata": {},
   "source": [
    "## 1번 문제"
   ]
  },
  {
   "cell_type": "code",
   "execution_count": 8,
   "metadata": {},
   "outputs": [
    {
     "name": "stdout",
     "output_type": "stream",
     "text": [
      "원의 넓이는 =3631.681107549801\n"
     ]
    }
   ],
   "source": [
    "\n",
    "import math\n",
    "\n",
    "radius = float(input('원의 반지름을 입력하시오 :'))\n",
    "\n",
    "print(f'원의 넓이는 ={radius *radius *math.pi}')"
   ]
  },
  {
   "cell_type": "markdown",
   "metadata": {},
   "source": [
    "## 2번 문제"
   ]
  },
  {
   "cell_type": "code",
   "execution_count": 9,
   "metadata": {},
   "outputs": [
    {
     "name": "stdout",
     "output_type": "stream",
     "text": [
      "한글 이름은 : 지구\n"
     ]
    }
   ],
   "source": [
    "# 2번 문제\n",
    "\n",
    "planet = input('행성의 이름을 영어로 입력하시오(예:Earth) : ')\n",
    "if planet == 'Mercury':\n",
    "    print('행성의 한글 이름은 : 수성')\n",
    "\n",
    "elif planet == 'Venus':\n",
    "    print('한글 이름은 : 금성')\n",
    "elif planet == 'Earth':\n",
    "    print('한글 이름은 : 지구')\n",
    "elif planet == 'Mars':\n",
    "    print('한글 이름은 : 화성')\n",
    "elif planet == 'Jupiter':\n",
    "    print('한글 이름은 : 목성')\n",
    "elif planet == 'Satum':\n",
    "    print('한글 이름은 : 토성')\n",
    "elif planet == 'Uranus':\n",
    "    print('한글 이름은 : 천왕성')\n",
    "elif planet == 'Neptune':\n",
    "    print('한글 이름은 : 해왕성')\n"
   ]
  },
  {
   "cell_type": "markdown",
   "metadata": {},
   "source": [
    "## 3번 문제"
   ]
  },
  {
   "cell_type": "code",
   "execution_count": 10,
   "metadata": {},
   "outputs": [
    {
     "name": "stdout",
     "output_type": "stream",
     "text": [
      "단어의 갯수는 : 9\n",
      "hello MY name IS kimjae NICE to MEET you "
     ]
    }
   ],
   "source": [
    "# 3번 문제\n",
    "\n",
    "str =input('문자열을 영어로 입력하세요 : ')\n",
    "\n",
    "str2 = str.split()\n",
    "\n",
    "print(f'단어의 갯수는 : {len(str.split())}')\n",
    "\n",
    "for i in range(len(str2)):\n",
    "    if i % 2 != 0:\n",
    "        result = str2[i].upper()\n",
    "    else:\n",
    "        result = str2[i]\n",
    "    \n",
    "    print(result,end=' ')\n",
    "\n"
   ]
  },
  {
   "cell_type": "markdown",
   "metadata": {},
   "source": [
    "## 4번 문제"
   ]
  },
  {
   "cell_type": "code",
   "execution_count": 12,
   "metadata": {},
   "outputs": [
    {
     "name": "stdout",
     "output_type": "stream",
     "text": [
      "사이트 주소 : www.naver.com\n"
     ]
    }
   ],
   "source": [
    "# 4번 문제\n",
    "def get_url(name):\n",
    "    return f'www.{name}.com'\n",
    "\n",
    "\n",
    "url = get_url\n",
    "\n",
    "site = input('영문 이름 입력 : ')\n",
    "\n",
    "print( f'사이트 주소 : {url(site)}')\n"
   ]
  },
  {
   "cell_type": "markdown",
   "metadata": {},
   "source": [
    "## 5번 문제"
   ]
  },
  {
   "cell_type": "code",
   "execution_count": 11,
   "metadata": {},
   "outputs": [
    {
     "name": "stdout",
     "output_type": "stream",
     "text": [
      "4324234 x 1 = 4324234 , 4324234 x 2 = 8648468 , 4324234 x 3 = 12972702 , 4324234 x 4 = 17296936 , 4324234 x 5 = 21621170 , 4324234 x 6 = 25945404 , 4324234 x 7 = 30269638 , 4324234 x 8 = 34593872 , 4324234 x 9 = 38918106 , "
     ]
    }
   ],
   "source": [
    "# 5번 문제\n",
    "\n",
    "\n",
    "number = int(input('구구단을 수행 할 숫자 입력 : '))\n",
    "\n",
    "for i in range(1,10):\n",
    "    print(f'{number} x {i} = {number*i}',end = ' , ') \n",
    "       "
   ]
  }
 ],
 "metadata": {
  "kernelspec": {
   "display_name": "Python 3",
   "language": "python",
   "name": "python3"
  },
  "language_info": {
   "codemirror_mode": {
    "name": "ipython",
    "version": 3
   },
   "file_extension": ".py",
   "mimetype": "text/x-python",
   "name": "python",
   "nbconvert_exporter": "python",
   "pygments_lexer": "ipython3",
   "version": "3.11.5"
  }
 },
 "nbformat": 4,
 "nbformat_minor": 2
}
